{
  "nbformat": 4,
  "nbformat_minor": 0,
  "metadata": {
    "colab": {
      "provenance": []
    },
    "kernelspec": {
      "name": "python3",
      "display_name": "Python 3"
    },
    "language_info": {
      "name": "python"
    }
  },
  "cells": [
    {
      "cell_type": "markdown",
      "metadata": {
        "id": "zyzPupGeKgfn"
      },
      "source": [
        "# Week 8 section\n",
        "\n",
        "In this notebook, we cover:\n",
        "1. Hopfield networks, which we didn't get to discuss much in class. This is one option for you for implementing w08 homework.\n",
        "\n",
        "2. The other option is to build a feedforward one-neuron network to distinguish between two classes of letters. We go over this as well."
      ]
    },
    {
      "cell_type": "code",
      "source": [
        "import numpy as np\n",
        "import matplotlib.pyplot as plt"
      ],
      "metadata": {
        "id": "44OFaBSMFnNM"
      },
      "execution_count": null,
      "outputs": []
    },
    {
      "cell_type": "markdown",
      "metadata": {
        "id": "NUjJP5f2xtNU"
      },
      "source": [
        "## 1) Hopfield networks\n",
        "\n",
        "For this week's homework one option is to implement a Hopfield network that can hopefully distinguish letters."
      ]
    },
    {
      "cell_type": "markdown",
      "source": [
        "### Data"
      ],
      "metadata": {
        "id": "e7xLeQMHFXMm"
      }
    },
    {
      "cell_type": "code",
      "metadata": {
        "id": "3ANtA0NLxsr0"
      },
      "source": [
        "letters_url = [\"http://mcb111.org/w08/abc.A.cat\",\"http://mcb111.org/w08/abc.B.cat\",\n",
        "               \"http://mcb111.org/w08/abc.C.cat\",\"http://mcb111.org/w08/abc.D.cat\",\n",
        "               \"http://mcb111.org/w08/abc.E.cat\",\"http://mcb111.org/w08/abc.X.cat\",\n",
        "               \"http://mcb111.org/w08/abc.Z.cat\"]\n",
        "\n",
        "handwritten_letters_url = [\"http://mcb111.org/w08/abc.pmin0.3.pmax0.5.A.dat\",\"http://mcb111.org/w08/abc.pmin0.3.pmax0.5.B.dat\",\n",
        "                           \"http://mcb111.org/w08/abc.pmin0.3.pmax0.5.C.dat\",\"http://mcb111.org/w08/abc.pmin0.3.pmax0.5.D.dat\",\n",
        "                           \"http://mcb111.org/w08/abc.pmin0.3.pmax0.5.E.dat\",\"http://mcb111.org/w08/abc.pmin0.3.pmax0.5.X.dat\",\n",
        "                           \"http://mcb111.org/w08/abc.pmin0.3.pmax0.5.Z.dat\"]"
      ],
      "execution_count": null,
      "outputs": []
    },
    {
      "cell_type": "markdown",
      "metadata": {
        "id": "_aaIZepmyrRG"
      },
      "source": [
        "In a similar fashion of what we've done in previous weeks we are going to define a function that can read these letters from the url. We know that these letters are going to be 5x5 grids populated with certain characters, and we might have more than one example of the letter at each url:"
      ]
    },
    {
      "cell_type": "code",
      "metadata": {
        "id": "OGyjxVSSyoFM"
      },
      "source": [
        "def load_letter(url):\n",
        "    '''\n",
        "    This function helps us load the data from the hand-written letters.\n",
        "    input = url with data.\n",
        "    output = array with each letter in a 5x5 array format.\n",
        "\n",
        "    1st line uses np.loadtxt to load the data line by line into an array\n",
        "    2nd line transforms those into 1 item per pixel\n",
        "    3rd line transforms x's and dots into -1's and 1's see the documentatin of np.where to learn more!\n",
        "    4th line reshapes the array into an array of 5 by 5 images of the handwritten data\n",
        "    '''\n",
        "    dat = np.loadtxt(url, dtype = 'str')\n",
        "    dat = np.array([list(row) for row in dat])\n",
        "    dat = np.where(dat =='.' , -1 ,1)\n",
        "    dat = dat.reshape(len(dat.flatten())//(5*5),5,5)\n",
        "    return dat"
      ],
      "execution_count": null,
      "outputs": []
    },
    {
      "cell_type": "markdown",
      "metadata": {
        "id": "siYaLqFX0CHy"
      },
      "source": [
        "let's test it and see how we can visualize these letters:"
      ]
    },
    {
      "cell_type": "code",
      "metadata": {
        "colab": {
          "base_uri": "https://localhost:8080/"
        },
        "id": "CtBiI2v1y5kC",
        "outputId": "6f237cfe-c17a-4420-cf55-e5c6f1303b17"
      },
      "source": [
        "reference_A = load_letter(letters_url[0])\n",
        "reference_A.shape"
      ],
      "execution_count": null,
      "outputs": [
        {
          "output_type": "execute_result",
          "data": {
            "text/plain": [
              "(18, 5, 5)"
            ]
          },
          "metadata": {},
          "execution_count": 24
        }
      ]
    },
    {
      "cell_type": "markdown",
      "metadata": {
        "id": "hkBy93340O5e"
      },
      "source": [
        "There seem to be 10 examples of letter A in this data:"
      ]
    },
    {
      "cell_type": "code",
      "metadata": {
        "colab": {
          "base_uri": "https://localhost:8080/",
          "height": 121
        },
        "id": "D3gr8UUC0JFR",
        "outputId": "34e9fcba-a83d-4716-9811-24b5c8e504ed"
      },
      "source": [
        "fig,ax = plt.subplots(ncols= reference_A.shape[0], nrows = 1, sharex = True)\n",
        "fig.set_figwidth(35)\n",
        "fig.set_figheight(5)\n",
        "\n",
        "axs = ax.flatten()\n",
        "\n",
        "for ax,idx in zip(axs, range(len(reference_A))):\n",
        "\n",
        "    ax.imshow(reference_A[idx])\n",
        "    ax.set_title(\"first letter in {}\".format(idx))"
      ],
      "execution_count": null,
      "outputs": [
        {
          "output_type": "display_data",
          "data": {
            "text/plain": [
              "<Figure size 3500x500 with 18 Axes>"
            ],
            "image/png": "[encoded data removed]"
          },
          "metadata": {}
        }
      ]
    },
    {
      "cell_type": "markdown",
      "metadata": {
        "id": "QY9eAJwK1Bgr"
      },
      "source": [
        "What about at the handwritten examples for letter A"
      ]
    },
    {
      "cell_type": "code",
      "metadata": {
        "colab": {
          "base_uri": "https://localhost:8080/"
        },
        "id": "NVcHiMAW0sOm",
        "outputId": "7bccda18-7d05-4eb2-af96-771f68e37870"
      },
      "source": [
        "hand_A = load_letter(handwritten_letters_url[0])\n",
        "hand_A.shape"
      ],
      "execution_count": null,
      "outputs": [
        {
          "output_type": "execute_result",
          "data": {
            "text/plain": [
              "(2000, 5, 5)"
            ]
          },
          "metadata": {},
          "execution_count": 9
        }
      ]
    },
    {
      "cell_type": "markdown",
      "metadata": {
        "id": "sAYrnxzs1nea"
      },
      "source": [
        "There seems to be 2000 examples of the handwritten character A, let's only look at a few of them:"
      ]
    },
    {
      "cell_type": "code",
      "metadata": {
        "colab": {
          "base_uri": "https://localhost:8080/",
          "height": 445
        },
        "id": "D35IkkzU1mOc",
        "outputId": "57b0014e-9184-4cca-eed4-db2f3b148ae8"
      },
      "source": [
        "fig,ax = plt.subplots(ncols = 5, nrows = 3, sharex = True)\n",
        "fig.set_figwidth(10)\n",
        "fig.set_figheight(5)\n",
        "\n",
        "axs = ax.flatten()\n",
        "\n",
        "for ax,idx in zip(axs, range(len(hand_A[:5*3]))):\n",
        "\n",
        "    ax.imshow(hand_A[idx])"
      ],
      "execution_count": null,
      "outputs": [
        {
          "output_type": "display_data",
          "data": {
            "text/plain": [
              "<Figure size 1000x500 with 15 Axes>"
            ],
            "image/png": "[encoded data removed]"
          },
          "metadata": {}
        }
      ]
    },
    {
      "cell_type": "markdown",
      "metadata": {
        "id": "3n4I62cJ9b_w"
      },
      "source": [
        "The handwritten aren't perfect like the reference, but we will implement the hopfield network and see how many of them can be recognized as A's.\n",
        "\n",
        "How do we implement the hopfield network?\n",
        "\n",
        "From mackay's book:\n",
        "\n",
        "*In this chapter we will discuss a fully connected feedback network called\n",
        "the Hopfield network. The weights in the Hopfield network are constrained to\n",
        "be symmetric, i.e., the weight from neuron i to neuron j is equal to the weight\n",
        "from neuron j to neuron i.*\n",
        "\n",
        "*Hopfield networks have two applications. First, they can act as associative\n",
        "memories.*\n",
        "\n",
        "Then it goes to describe hebbian learning, in a way that is very intuitive. I recommend if you can that you read  Mackay's section 42.1 if you are struggling to understand what's going on conceptually.\n",
        "\n",
        "However, let's break down a couple of things that you are going to want to be able to do in order to implement the weight matrix.\n"
      ]
    },
    {
      "cell_type": "markdown",
      "metadata": {
        "id": "yS90zimlkBf0"
      },
      "source": [
        "### The weight matrix\n",
        "\n",
        "Hopfield networks are comprised of fully connected neurons. That means every neuron is connected to their neighbours and vice-versa. These connections describe the flow of information through the network using **weights**. Since the hopfield networks have the property of such connections being bidirectional in the **weight matrix** position (1,2) and (2,1), which hold the **weights** for the connections between neuron 1 and 2 have the same value. In other words:\n",
        "\n",
        "$$w_{n,m} = w_{m,n}$$\n",
        "\n",
        "And the neurons do not have a self connection. the weight for a connection between a neuron and itself is zero, in other words:\n",
        "\n",
        "$$w_{n,n} = 0 $$\n",
        "\n",
        "This already gives us a pretty good idea of what such a weight matrix has to look like: zeros on the main diagonal and symmetric along that axis.\n",
        "\n",
        "Now we want to decode our 5 by 5 image into a format that can be uptaken by the network we are building, by linearizing the array in which we are storing the information using the `np.flatten()` method we can achieve this, for example:"
      ]
    },
    {
      "cell_type": "code",
      "metadata": {
        "id": "A41wYKHh2TE9",
        "colab": {
          "base_uri": "https://localhost:8080/",
          "height": 447
        },
        "outputId": "dc907e2c-a66c-450a-9f62-4a88c1af0a49"
      },
      "source": [
        "plt.imshow(reference_A[0])"
      ],
      "execution_count": null,
      "outputs": [
        {
          "output_type": "execute_result",
          "data": {
            "text/plain": [
              "<matplotlib.image.AxesImage at 0x7c2f09d20280>"
            ]
          },
          "metadata": {},
          "execution_count": 16
        },
        {
          "output_type": "display_data",
          "data": {
            "text/plain": [
              "<Figure size 640x480 with 1 Axes>"
            ],
            "image/png": "[encoded data removed]"
          },
          "metadata": {}
        }
      ]
    },
    {
      "cell_type": "code",
      "metadata": {
        "colab": {
          "base_uri": "https://localhost:8080/"
        },
        "id": "CGw-prTVsd-_",
        "outputId": "4433806c-e957-4c56-a4c6-83b3eced4f9d"
      },
      "source": [
        "reference_A[0].flatten()"
      ],
      "execution_count": null,
      "outputs": [
        {
          "output_type": "execute_result",
          "data": {
            "text/plain": [
              "array([-1, -1,  1, -1, -1, -1,  1, -1,  1, -1, -1,  1,  1,  1, -1, -1,  1,\n",
              "       -1,  1, -1,  1, -1, -1, -1,  1])"
            ]
          },
          "metadata": {},
          "execution_count": 17
        }
      ]
    },
    {
      "cell_type": "markdown",
      "metadata": {
        "id": "yUoAoK_Xsu0o"
      },
      "source": [
        "Notice that this is just a 1 dimensional representation of the same image, simply we add the first row, then the second and so on."
      ]
    },
    {
      "cell_type": "markdown",
      "metadata": {
        "id": "MMQVnlGtfcEl"
      },
      "source": [
        "Given a 25-dimensional input vector $y$, and the 25$\\times$25 dimensional weight matrix $w$, then the activation $a$ of the $n$th neuron, $a_n$, is\n",
        "\n",
        "$$\\begin{aligned}\n",
        "a_n &= \\sum_{m=1}^{25} w_{nm} y_m  \\\\\n",
        "&= w_{n,1} y_1 + w_{n,2} y_2 + \\dots + w_{n,25} y_{25}\n",
        "\\end{aligned}$$\n",
        "\n",
        "Let's say we trained our connectivity matrix by storing a perfect A. As seen in the lecture notes, the first row of $w$ is\n",
        "\n",
        "`0  1 -1  1  1  1 -1  1 -1  1  1 -1 -1 -1  1  1 -1  1 -1  1 -1  1  1  1 -1 `\n",
        "\n",
        "Now let's say we provide as input to the network a perfect A -- we better get a perfect A as the output of the network!\n",
        "\n",
        "Let's just focus on the first row of our 5$\\times$5 digit representation. Our perfect A input is $y = [-1, -1, +1, -1, -1, \\dots ]$.\n",
        "\n",
        "To get a perfect A output, then we need basically this same vector -- first pixel needs to be off, as does the second pixel, then the third pixel needs to be on, then pixels 4 and 5 need to be off.\n",
        "\n",
        "Let's look at the output of the network when providing the above $y$ as input.\n",
        "\n",
        "$$\\begin{aligned}\n",
        "a_1 &= w_{1,1} y_1 + w_{1,2} y_2 + \\dots + w_{1,25} y_{25} \\\\\n",
        "&= 0(-1) +1(-1) -1(+1) +1(-1) +1(-1) + \\dots \\\\\n",
        "&= -24\n",
        "\\end{aligned}$$\n",
        "\n",
        "(Ignoring the first position because neuron 1 can't talk to itself), every single time that $y$ has a positive 1 in an entry, the connectivity matrix entry is a negative 1, and vice versa. This makes sense -- if we want a perfect A as an output, we need the first pixel to be off. By storing the perfect A into the network, then we've encoded the information that when the first pixel is off, so is the second pixel, and pixels 4 and 5, but pixel 3 is on. The result of the above operation makes a very negative number -- that is the **activation** $a_n$. We get an **activity** $y_n$ via\n",
        "\n",
        "$$y(a) = \\left\\{\\begin{matrix}\n",
        "+1 & a \\geq 0\\\\\n",
        "-1 & a < 0\\\\\n",
        "\\end{matrix}\n",
        "\\right.$$\n",
        "\n",
        "\n",
        "This is where `np.where()` might come in handy, to scan a vector for a condition, for example its numbers being higher than 0 and replacing it's value for 1 or -1. we use this function above in the load_letter function."
      ]
    },
    {
      "cell_type": "markdown",
      "metadata": {
        "id": "zpiNsnietbyS"
      },
      "source": [
        "\n",
        "So by this rule, $y_1 = y(a_1) = y(-24) = -1$.\n",
        "\n",
        "Now, what if we passed in a slightly corrupted version of an A? Again let's just restrict ourselves to the top row of the image. Say that we had the second pixel on, when ideally it should be off: $y_{corrupt} = [-1, +1, +1, -1, -1, \\dots ]$.\n",
        "\n",
        "$$\\begin{aligned}\n",
        "a_1 &= w_{1,1} y_{corrupt, 1} + w_{1,2} y_{corrupt, 2} + \\dots + w_{1,25} y_{corrupt, 25} \\\\\n",
        "&= 0(-1) +1(+1) -1(+1) +1(-1) +1(-1) + \\dots \\\\\n",
        "&= -22\n",
        "\\end{aligned}$$\n",
        "\n",
        "A-ha: we have a single mismatch at the second index, contributing a $+1$ to our summation. But there are so many matches at all the other pixels that the activation is still very negative, so the activity $y_1$ after passing in the imperfect A is still $-1$ and the pixel is off.\n",
        "\n",
        "This is the fundamental property of the Hopfield network -- by storing patterns and the pairwise interactions between pixels, then imperfect versions of the patterns that get passed in to the network can get \"corrected\" by all the stored pairwise information between pixels -- you just need enough pixels to be on when they should be on, and off when they should be off, to fix imperfect patterns."
      ]
    },
    {
      "cell_type": "markdown",
      "metadata": {
        "id": "-PZm0WgcvC5P"
      },
      "source": [
        "### But how do we actually set the weights?\n",
        "\n",
        "For that we are going to use Hebb's rule, we are going to create a matrix of the appropriate size and populate it according to this rule, this is the form of the rule for a single pattern:\n",
        "\n",
        "$$w_{nm} = y_n y_m$$\n",
        "\n",
        "Let's say we wanted to add the memory A to the network, here we show how the first row would look like:\n"
      ]
    },
    {
      "cell_type": "code",
      "metadata": {
        "id": "fbkIUJ4HwStI"
      },
      "source": [
        "w = np.zeros((25,25))\n",
        "memory = reference_A[0].flatten()\n",
        "\n",
        "w[0, 0] += 0\n",
        "w[0, 1] += (memory[0]*memory[1])\n",
        "w[0, 2] += (memory[0]*memory[2])\n",
        "w[0, 3] += (memory[0]*memory[3])\n",
        "w[0, 4] += (memory[0]*memory[4])\n",
        "w[0, 5] += (memory[0]*memory[5])\n",
        "w[0, 6] += (memory[0]*memory[6])\n",
        "w[0, 7] += (memory[0]*memory[7])\n",
        "w[0, 8] += (memory[0]*memory[8])\n",
        "w[0, 9] += (memory[0]*memory[9])\n",
        "w[0, 10] += (memory[0]*memory[10])\n",
        "w[0, 11] += (memory[0]*memory[11])\n",
        "w[0, 12] += (memory[0]*memory[12])\n",
        "w[0, 13] += (memory[0]*memory[13])\n",
        "w[0, 14] += (memory[0]*memory[14])\n",
        "w[0, 15] += (memory[0]*memory[15])\n",
        "w[0, 16] += (memory[0]*memory[16])\n",
        "w[0, 17] += (memory[0]*memory[17])\n",
        "w[0, 18] += (memory[0]*memory[18])\n",
        "w[0, 19] += (memory[0]*memory[19])\n",
        "w[0, 20] += (memory[0]*memory[20])\n",
        "w[0, 21] += (memory[0]*memory[21])\n",
        "w[0, 22] += (memory[0]*memory[22])\n",
        "w[0, 23] += (memory[0]*memory[23])\n",
        "w[0, 24] += (memory[0]*memory[24])"
      ],
      "execution_count": null,
      "outputs": []
    },
    {
      "cell_type": "code",
      "source": [
        "plt.imshow(w[0].reshape(5,5))"
      ],
      "metadata": {
        "colab": {
          "base_uri": "https://localhost:8080/",
          "height": 447
        },
        "id": "6TDJVMy_aUkV",
        "outputId": "584dca1b-aa50-4182-d073-5bd93e16652d"
      },
      "execution_count": null,
      "outputs": [
        {
          "output_type": "execute_result",
          "data": {
            "text/plain": [
              "<matplotlib.image.AxesImage at 0x7c2f09d71360>"
            ]
          },
          "metadata": {},
          "execution_count": 19
        },
        {
          "output_type": "display_data",
          "data": {
            "text/plain": [
              "<Figure size 640x480 with 1 Axes>"
            ],
            "image/png": "[encoded data removed]"
          },
          "metadata": {}
        }
      ]
    },
    {
      "cell_type": "code",
      "source": [
        "w = np.zeros((25,25))\n",
        "memory = reference_A[1].flatten()\n",
        "\n",
        "w[0, 0] += 0\n",
        "w[0, 1] += (memory[0]*memory[1])\n",
        "w[0, 2] += (memory[0]*memory[2])\n",
        "w[0, 3] += (memory[0]*memory[3])\n",
        "w[0, 4] += (memory[0]*memory[4])\n",
        "w[0, 5] += (memory[0]*memory[5])\n",
        "w[0, 6] += (memory[0]*memory[6])\n",
        "w[0, 7] += (memory[0]*memory[7])\n",
        "w[0, 8] += (memory[0]*memory[8])\n",
        "w[0, 9] += (memory[0]*memory[9])\n",
        "w[0, 10] += (memory[0]*memory[10])\n",
        "w[0, 11] += (memory[0]*memory[11])\n",
        "w[0, 12] += (memory[0]*memory[12])\n",
        "w[0, 13] += (memory[0]*memory[13])\n",
        "w[0, 14] += (memory[0]*memory[14])\n",
        "w[0, 15] += (memory[0]*memory[15])\n",
        "w[0, 16] += (memory[0]*memory[16])\n",
        "w[0, 17] += (memory[0]*memory[17])\n",
        "w[0, 18] += (memory[0]*memory[18])\n",
        "w[0, 19] += (memory[0]*memory[19])\n",
        "w[0, 20] += (memory[0]*memory[20])\n",
        "w[0, 21] += (memory[0]*memory[21])\n",
        "w[0, 22] += (memory[0]*memory[22])\n",
        "w[0, 23] += (memory[0]*memory[23])\n",
        "w[0, 24] += (memory[0]*memory[24])\n",
        "\n",
        "print(w[0])"
      ],
      "metadata": {
        "colab": {
          "base_uri": "https://localhost:8080/"
        },
        "id": "HL9yDCCaNpTC",
        "outputId": "7c9ca97f-c041-451a-da51-6d8d60952ad1"
      },
      "execution_count": null,
      "outputs": [
        {
          "output_type": "stream",
          "name": "stdout",
          "text": [
            "[ 0.  1. -1.  1.  1.  1. -1.  1. -1.  1.  1. -1. -1. -1.  1.  1. -1.  1.\n",
            " -1.  1. -1.  1.  1.  1. -1.]\n"
          ]
        }
      ]
    },
    {
      "cell_type": "markdown",
      "source": [
        "### Using matrices to speed this up:"
      ],
      "metadata": {
        "id": "zL-otQbaMTK4"
      }
    },
    {
      "cell_type": "code",
      "source": [
        "# take the outer product of the neurons to get the weight matrix\n",
        "w = np.outer(memory,memory)\n",
        "\n",
        "# set self-interaction terms to zero\n",
        "w = w * (1 - np.eye(len(memory)))\n",
        "\n",
        "# check that our method is the same as the previous\n",
        "print(w.shape)"
      ],
      "metadata": {
        "colab": {
          "base_uri": "https://localhost:8080/"
        },
        "id": "0gMADZo8MRWF",
        "outputId": "72372b5d-892a-4c77-96ec-2275e6c71c0e"
      },
      "execution_count": null,
      "outputs": [
        {
          "output_type": "stream",
          "name": "stdout",
          "text": [
            "(25, 25)\n"
          ]
        }
      ]
    },
    {
      "cell_type": "markdown",
      "source": [
        "### Remembering many patterns"
      ],
      "metadata": {
        "id": "tR613LDVNPS9"
      }
    },
    {
      "cell_type": "markdown",
      "metadata": {
        "id": "IRmHSO1ExyAG"
      },
      "source": [
        "If you wanted to store $k$ patterns, you add average product at the $n$ and $m$ entries for each pattern:\n",
        "\n",
        "$$w_{nm} = \\frac{ (y^1_{n} y^1_{m}) +(y^2_{n} y^2_{m}) + \\dots + (y^k_{n} y^k_{m})}{k}$$\n",
        "\n",
        "$$w_{nm} = \\frac{1}{k} \\sum_{k=1}^K y_n^{(k)} y_m^{(k)}.$$\n",
        "\n",
        "In your own implementation, it would be tedious writing the above out by hand -- think about how you could use a for loop to build the weight matrix instead."
      ]
    },
    {
      "cell_type": "code",
      "source": [
        "np.shape(reference_A)"
      ],
      "metadata": {
        "colab": {
          "base_uri": "https://localhost:8080/"
        },
        "id": "v3zrgID_dPpy",
        "outputId": "fde940e0-b79d-4f64-8242-4516fe6408a6"
      },
      "execution_count": null,
      "outputs": [
        {
          "output_type": "execute_result",
          "data": {
            "text/plain": [
              "(10, 5, 5)"
            ]
          },
          "metadata": {},
          "execution_count": 19
        }
      ]
    },
    {
      "cell_type": "code",
      "source": [
        "# # some skeleton code to help you with your hopfield network!\n",
        "# patterns = reference_A.copy()\n",
        "\n",
        "def train(patterns):\n",
        "  # for pattern in patterns:\n",
        "  # train the weights specific to each pattern!\n",
        "  return weights\n",
        "\n",
        "# weights = train(patterns)\n",
        "\n",
        "def recall(weights, query, max_steps = 1):\n",
        "  # for in range(max_steps):\n",
        "    # update the query by running it through the network!\n",
        "\n",
        "  return query # now updated!\n",
        "\n",
        "# a little helper function to plot flattened letters -- use at own risk!\n",
        "def show_letter(letter_vec):\n",
        "    # reshape the array into a 5x5 matrix\n",
        "    array_2d = letter_vec.reshape((5, 5))\n",
        "\n",
        "    # display the 5x5 matrix using imshow\n",
        "    plt.imshow(array_2d)\n",
        "    plt.show()"
      ],
      "metadata": {
        "id": "QgB8tfJrHYrC"
      },
      "execution_count": null,
      "outputs": []
    },
    {
      "cell_type": "markdown",
      "metadata": {
        "id": "_RwQBkiVMAgy"
      },
      "source": [
        "## 2) Feedforward neuron model\n",
        "\n",
        "- Choose two letters -- say A and B, or some other pair, and collect all of the imperfect As and Bs -- let's call this your data $X$, and their labels $t$ (whether each imperfect letter is an A or a B -- you need to pick one letter to be +1 and the other to be -1).\n",
        "- It is good practice to split up your data into a training set, which you use to train a model like your one-neuron network, and then a testing set, so that you can evaluate the model's performance on unseen data.\n",
        "- To do this, if you have 2000 examples of A and 2000 examples of B, it would be good to randomize the order of the data. If $N=4000$ (the total number of examples, both As and Bs), then you can get a random ordering via `np.random.choice(np.arange(N), N, replace=False)`. Then, set some number of training points `N_train`, and use `X_train = X_shuffled[:N_train]` as your training examples. Here's an example of making a random shuffling:"
      ]
    },
    {
      "cell_type": "code",
      "metadata": {
        "colab": {
          "base_uri": "https://localhost:8080/"
        },
        "id": "0-zhk9O5M78L",
        "outputId": "20ceb068-3f58-46f8-aff3-8f883c0467f2"
      },
      "source": [
        "N = 5\n",
        "# sample array of N indices, without replacement\n",
        "random_shuffling = np.random.choice(np.arange(N), N, replace=False)\n",
        "print(random_shuffling)\n",
        "# Then, you can shuffle X via X_shuffled=X[random_shuffling]\n",
        "# And you definitely want to use the same shuffling for T, so that\n",
        "# you keep the same associations between letters and their labels\n",
        "# T_shuffled = T[random_shuffling]"
      ],
      "execution_count": null,
      "outputs": [
        {
          "output_type": "stream",
          "name": "stdout",
          "text": [
            "[3 2 0 4 1]\n"
          ]
        }
      ]
    },
    {
      "cell_type": "markdown",
      "metadata": {
        "id": "u8OfdsdeNs_B"
      },
      "source": [
        "- The neuron model actually has 26 parameters -- the activation $a$ is $w_0 + w_1 x_1 + \\dots w_{25} x_{25}$. The easiest way to implement this is to add a column of 1s to your $X$ data (think of it as a hidden $x_0=1$ that gets multiplied by $w_0$). Here's how you can append a column of 1s to an array:\n"
      ]
    },
    {
      "cell_type": "code",
      "metadata": {
        "colab": {
          "base_uri": "https://localhost:8080/"
        },
        "id": "osROeRTSM_83",
        "outputId": "f2d27b46-7634-458b-eddd-cd08b879f13c"
      },
      "source": [
        "N = 3\n",
        "# make an example array\n",
        "X = np.arange(N**2+N).reshape((N, N+1))\n",
        "X"
      ],
      "execution_count": null,
      "outputs": [
        {
          "output_type": "execute_result",
          "data": {
            "text/plain": [
              "array([[ 0,  1,  2,  3],\n",
              "       [ 4,  5,  6,  7],\n",
              "       [ 8,  9, 10, 11]])"
            ]
          },
          "metadata": {},
          "execution_count": 33
        }
      ]
    },
    {
      "cell_type": "code",
      "metadata": {
        "colab": {
          "base_uri": "https://localhost:8080/"
        },
        "id": "g7WLSExYO1Ly",
        "outputId": "c1e9cf9e-f4be-4201-db4b-f52ee5de1efd"
      },
      "source": [
        "# just np.ones(N) gives you an array of N ones, with shape (N,)\n",
        "# the [:, np.newaxis] converts that array\n",
        "# into a column vector, with shape (N,1)\n",
        "ones = np.ones(N)[:, np.newaxis]\n",
        "ones"
      ],
      "execution_count": null,
      "outputs": [
        {
          "output_type": "execute_result",
          "data": {
            "text/plain": [
              "array([[1.],\n",
              "       [1.],\n",
              "       [1.]])"
            ]
          },
          "metadata": {},
          "execution_count": 34
        }
      ]
    },
    {
      "cell_type": "code",
      "metadata": {
        "colab": {
          "base_uri": "https://localhost:8080/"
        },
        "id": "GuJUjg65O4nT",
        "outputId": "98af5fd1-83fe-41f7-ec19-d0aa4cd1159a"
      },
      "source": [
        "# \"horizontal stack\" the column vector onto X:\n",
        "np.hstack((ones, X))"
      ],
      "execution_count": null,
      "outputs": [
        {
          "output_type": "execute_result",
          "data": {
            "text/plain": [
              "array([[ 1.,  0.,  1.,  2.,  3.],\n",
              "       [ 1.,  4.,  5.,  6.,  7.],\n",
              "       [ 1.,  8.,  9., 10., 11.]])"
            ]
          },
          "metadata": {},
          "execution_count": 62
        }
      ]
    },
    {
      "cell_type": "markdown",
      "metadata": {
        "id": "UAHaj1YcOqPv"
      },
      "source": [
        "- The key thing to implement is the update of the weight vector\n",
        "  - If you use stochastic gradient descent, then in each step of training, you\n",
        "   - pick a random data point, $X^{(m)}$,\n",
        "   - predict its label via the current state of the model, $y^{(m)} = \\frac{1}{1+e^{-\\sum_j w_{old, j} X^{(m)}_j }}$,\n",
        "   - then get its true label $t^{(m)}$, and\n",
        "   - update your weights via $w_{new} = w_{old} + \\eta (t^{(m)} - y^{(m)}) X^{(m)}$\n",
        "  - If you use batch gradient descent, then in each step of training you pass through the entire dataset, so each weight update uses all of the data: $w_{new} = w_{old} + \\eta \\sum_n (t^{(n)} - y^{(n)}) X^{(n)}$\n",
        "- It would be good to compare what the results look like with stochastic gradient descent and the batch version -- which method takes longer to run? By how much?\n",
        "- When just starting out, it could be good to set some reasonable max number of steps that you know won't take too long to wait, just to get a sense of the performance of the model. After that, think about convergence conditions (the loss function, the weights, etc.)"
      ]
    },
    {
      "cell_type": "code",
      "source": [
        "# some optional helper functions to get you on your way\n",
        "# activation function - we choose a logistic sigmoid\n",
        "def sigmoid(z):\n",
        "    return # what's the form of a sigmoid (logistic function) ?\n",
        "\n",
        "def predict(X, weights):\n",
        "    return # how do we compute the current predictions?\n",
        "\n",
        "def compute_loss(X, y, weights, alpha = 0):\n",
        "  # compute a prediction\n",
        "  # compute the log likelihood loss\n",
        "    # note that you might want to pad your logs with a small pseudocount eps to avoid blowup\n",
        "      eps = 1e-15\n",
        "  # compute the regularization term (with alpha!)\n",
        "  return log_lik + reg_term\n",
        "\n",
        "def compute_gradient(X, y, weights, alpha=0):\n",
        "  return # how do we compute the gradient of the loss?\n",
        "\n",
        "def update_weights(weights, gradient, eta):\n",
        "    return # once we've computed the gradient, how do we update our model weights?"
      ],
      "metadata": {
        "id": "KE5B4xqzG0f4"
      },
      "execution_count": null,
      "outputs": []
    },
    {
      "cell_type": "code",
      "source": [
        "# set iteration steps/learning rate/regularization parameters\n",
        "# found after manual exploration until convergence\n",
        "n_steps = #?\n",
        "eta = #?\n",
        "alpha = #?\n",
        "\n",
        "# initialize weights as random\n",
        "ws = #? whats the dimension?\n",
        "\n",
        "# what else do we need to keep track of?\n",
        "all_pred_ys = [] #predictions\n",
        "losses = [] #losses\n",
        "\n",
        "# loop through train steps\n",
        "for s in range(1, n_steps):\n",
        "\n",
        "    # current weights\n",
        "    cur_w = #?\n",
        "    next_w = #?\n",
        "\n",
        "    loss = 0\n",
        "    pred_ys = []\n",
        "\n",
        "    # stochastic gradient descent\n",
        "    if do_SGD:\n",
        "\n",
        "        # 1) pick a point at random, retrieve its letter and true label\n",
        "        m = #?\n",
        "        Xm = #?\n",
        "        tm = #?\n",
        "\n",
        "        # 2) get predicted label\n",
        "        pred_y = #?\n",
        "\n",
        "        # 3) update weights\n",
        "        next_w += #?\n",
        "        pred_ys.append(pred_y)\n",
        "\n",
        "        # 4) update loss\n",
        "        loss -= #?\n",
        "\n",
        "    # batch gradient descent\n",
        "    else:\n",
        "\n",
        "        # go through all data points\n",
        "        for n in range(N_train):\n",
        "            # 1) get data point and true label\n",
        "            Xn = #?\n",
        "            tn = #?\n",
        "\n",
        "            # 2) get predicted label\n",
        "            pred_y = #?\n",
        "\n",
        "            # 3) update weights\n",
        "            next_w += #?\n",
        "            pred_ys.append(pred_y)\n",
        "\n",
        "            # 4) update loss\n",
        "            loss -= #?\n",
        "\n",
        "    all_pred_ys.append(pred_ys)\n",
        "    losses.append(loss)\n",
        "\n",
        "    # fill in next weight\n",
        "    ws[?, ?] = next_w #what indices?\n",
        "\n",
        "all_pred_ys = np.array(all_pred_ys)\n",
        "losses = np.array(losses)"
      ],
      "metadata": {
        "id": "FeQrdSmEKHhZ"
      },
      "execution_count": null,
      "outputs": []
    },
    {
      "cell_type": "markdown",
      "source": [
        "- KEY: look at the resultant weights of the network!!! Especially of the neurons representing pixels of the letters (i.e. not $w_0$, the bias). Here's one way to link the 25 weights back to our 5x5 representation:"
      ],
      "metadata": {
        "id": "LV39Ez2QKMMT"
      }
    },
    {
      "cell_type": "code",
      "metadata": {
        "colab": {
          "base_uri": "https://localhost:8080/",
          "height": 450
        },
        "id": "n37fhqiKSTcf",
        "outputId": "a854a7a2-4cce-4791-ce3a-e3ae8377a2fa"
      },
      "source": [
        "# make random weights corresponding to 25 pixels, reshape to 5x5\n",
        "w = np.random.normal(0, 1, 25).reshape((5,5))\n",
        "\n",
        "# make a heatmap, positive weights are red, negative weights are blue\n",
        "import seaborn as sns\n",
        "plt.figure()\n",
        "sns.heatmap(w, annot=True, cmap='bwr', center=0)\n",
        "plt.show()"
      ],
      "execution_count": null,
      "outputs": [
        {
          "output_type": "display_data",
          "data": {
            "text/plain": [
              "<Figure size 640x480 with 2 Axes>"
            ],
            "image/png": "[encoded data removed]"
          },
          "metadata": {}
        }
      ]
    },
    {
      "cell_type": "markdown",
      "metadata": {
        "id": "g7hhGA9TS9Pg"
      },
      "source": [
        "- The weights in the one-neuron model have a direct interpretation. Let's say you said that letter A is \"+1\" and letter B is \"-1\", and you want to know whether a particular corrupted letter is more likely to be an A or a B. Each of the 25 non-bias weights in the network is tied to a pixel, and each relates to how likely it is that the letter is an A or B if the letter has that pixel ON. For instance, B's have flat edges along the top, so the first pixel, in the top left corner, is usually going to be ON in examples of B's. In contrast, A's have pointy tops and very rarely have lit-up top left corners. So you'd expect the weight of the first pixel to be negative (when you see an example with a lit-up first pixel, then that should clue you in to a B, which is \"-1\" in our scheme, so the contribution from that first pixel should be negative).\n"
      ]
    }
  ]
}